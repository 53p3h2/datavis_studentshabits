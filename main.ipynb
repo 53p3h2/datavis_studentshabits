{
 "cells": [
  {
   "cell_type": "markdown",
   "id": "65c93e72",
   "metadata": {},
   "source": [
    "# About the Dataset\n",
    "\n",
    "This notebook uses a simulated dataset designed to explore how various lifestyle habits impact academic performance among students. The dataset contains 1,000 synthetic student records and over 15 features, including:\n",
    "\n",
    "- Study hours\n",
    "- Sleep patterns\n",
    "- Social media usage\n",
    "- Diet quality\n",
    "- Mental health\n",
    "- Final exam scores\n",
    "\n",
    "Created with realistic patterns for educational practice, this dataset is ideal for:\n",
    "- Machine learning projects\n",
    "- Regression analysis\n",
    "- Clustering\n",
    "- Data visualization\n",
    "\n",
    "Ever wondered how much Netflix, sleep, or TikTok scrolling affects your grades? 👀 This dataset simulates students' daily habits and compares them to academic outcomes. It's perfect for exploratory data analysis, ML practice, or just exploring the connections between lifestyle and GPA."
   ]
  }
 ],
 "metadata": {
  "kernelspec": {
   "display_name": "base",
   "language": "python",
   "name": "python3"
  },
  "language_info": {
   "name": "python",
   "version": "3.13.2"
  }
 },
 "nbformat": 4,
 "nbformat_minor": 5
}
